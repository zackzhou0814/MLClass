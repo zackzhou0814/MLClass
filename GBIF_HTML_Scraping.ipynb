{
  "nbformat": 4,
  "nbformat_minor": 0,
  "metadata": {
    "colab": {
      "name": "GBIF_HTML_Scraping.ipynb",
      "provenance": [],
      "collapsed_sections": [],
      "authorship_tag": "ABX9TyPZRuYRrkYRWq2UvuFOcFwU",
      "include_colab_link": true
    },
    "kernelspec": {
      "name": "python3",
      "display_name": "Python 3"
    },
    "language_info": {
      "name": "python"
    }
  },
  "cells": [
    {
      "cell_type": "markdown",
      "metadata": {
        "id": "view-in-github",
        "colab_type": "text"
      },
      "source": [
        "<a href=\"https://colab.research.google.com/github/zackzhou0814/MLClass/blob/master/GBIF_HTML_Scraping.ipynb\" target=\"_parent\"><img src=\"https://colab.research.google.com/assets/colab-badge.svg\" alt=\"Open In Colab\"/></a>"
      ]
    },
    {
      "cell_type": "code",
      "metadata": {
        "id": "CcOKYMVu3Xi6"
      },
      "source": [
        "!pip install kora -q\n",
        "from kora.selenium import wd\n",
        "#wd.get(\"url\")"
      ],
      "execution_count": null,
      "outputs": []
    },
    {
      "cell_type": "code",
      "metadata": {
        "id": "JZiR6Mux5bie"
      },
      "source": [
        "wd.get(\"https://www.gbif.org/dataset/d7dddbf4-2cf0-4f39-9b2a-bb099caae36c\")"
      ],
      "execution_count": null,
      "outputs": []
    },
    {
      "cell_type": "code",
      "metadata": {
        "colab": {
          "base_uri": "https://localhost:8080/"
        },
        "id": "VFzIlQuK8o14",
        "outputId": "fe0883be-16d3-4cd8-9b4f-e8473ad5bfb2"
      },
      "source": [
        "metircs_html = wd.find_elements_by_xpath(\"//*[@id='tabsScrollable']/section/div/div/div/div/div/ul/li[2]/span/a/span\")\n",
        "\n",
        "print(metircs_html)"
      ],
      "execution_count": null,
      "outputs": [
        {
          "output_type": "stream",
          "text": [
            "[<span tx=\"counts.nCitations\" tx-nr=\"datasetKey.literature.count\" class=\"ng-isolate-scope\">73 citations</span>]\n"
          ],
          "name": "stdout"
        }
      ]
    },
    {
      "cell_type": "code",
      "metadata": {
        "colab": {
          "base_uri": "https://localhost:8080/"
        },
        "id": "4WHzeplhd-ZJ",
        "outputId": "7032b98d-8121-4636-8733-73d0317c3854"
      },
      "source": [
        "listToStr = ' '.join([str(elem) for elem in metircs_html])\n",
        "print(listToStr)"
      ],
      "execution_count": null,
      "outputs": [
        {
          "output_type": "stream",
          "text": [
            "<span tx=\"counts.nCitations\" tx-nr=\"datasetKey.literature.count\" class=\"ng-isolate-scope\">73 citations</span>\n"
          ],
          "name": "stdout"
        }
      ]
    },
    {
      "cell_type": "code",
      "metadata": {
        "colab": {
          "base_uri": "https://localhost:8080/"
        },
        "id": "80oxaAMGkGc3",
        "outputId": "6479babb-f6b7-4c84-ef1a-6b15af09f11d"
      },
      "source": [
        "citations_index = listToStr.index(\" citations\")\n",
        "first_num_index = citations_index-1\n",
        "citations_number_in_str = \"\"\n",
        "\n",
        "while(listToStr[first_num_index]!=\">\"):\n",
        "  citations_number_in_str+=listToStr[first_num_index]\n",
        "  first_num_index-=1\n",
        "\n",
        "num_citations = int(citations_number_in_str[::-1])\n",
        "print(num_citations)"
      ],
      "execution_count": null,
      "outputs": [
        {
          "output_type": "stream",
          "text": [
            "73\n"
          ],
          "name": "stdout"
        }
      ]
    }
  ]
}